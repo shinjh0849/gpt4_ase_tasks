{
 "cells": [
  {
   "cell_type": "code",
   "execution_count": null,
   "id": "23f8aa5f",
   "metadata": {},
   "outputs": [],
   "source": [
    "import openai\n",
    "import os\n",
    "import json\n",
    "from datasets import load_dataset\n",
    "openai.api_key = ''\n",
    "dataset = load_dataset(\"mbpp\", split=\"test\")"
   ]
  },
  {
   "cell_type": "code",
   "execution_count": null,
   "id": "e26dd4ef",
   "metadata": {},
   "outputs": [],
   "source": [
    "def get_completion(prompt, model=\"gpt-4\"):\n",
    "    messages = [\n",
    "        {\"role\": \"system\",\n",
    "         \"content\": \"You are a helpful code generation model \\\n",
    "         that can generate source code for a Python function \\\n",
    "         given a natural language prompt of what the function should do.\"},\n",
    "        {\"role\": \"user\", \"content\": prompt},\n",
    "    ]\n",
    "    response = openai.ChatCompletion.create(\n",
    "        model=model,\n",
    "        messages=messages,\n",
    "        temperature=0, # this is the degree of randomness of the model's output\n",
    "    )\n",
    "    return response.choices[0].message['content']"
   ]
  },
  {
   "cell_type": "code",
   "execution_count": null,
   "id": "7626a670",
   "metadata": {},
   "outputs": [],
   "source": [
    "def nl_to_code():\n",
    "    with open(\"mbpp_chain.txt\", \"w\") as write_file:\n",
    "        for instance in dataset:\n",
    "            nl = instance['text']                \n",
    "            prompt = f\"\"\"\n",
    "            Generate Python source code for a function, \\\n",
    "            given a natural language prompt (surrounded by ???) \\\n",
    "            describing the function's purpose. \\\n",
    "            Carefully consider the steps required to fulfill the function's \\\n",
    "            purpose stated in the natural language prompt. \\\n",
    "            Output only the Python source code on exactly one line. \\\n",
    "            ???{nl}???\n",
    "            \"\"\"\n",
    "            response = get_completion(prompt)\n",
    "            write_file.write(response + '\\n')\n",
    "                \n",
    "            "
   ]
  },
  {
   "cell_type": "code",
   "execution_count": null,
   "id": "83346b0b",
   "metadata": {},
   "outputs": [],
   "source": [
    "nl_to_code()"
   ]
  }
 ],
 "metadata": {
  "kernelspec": {
   "display_name": "Python 3 (ipykernel)",
   "language": "python",
   "name": "python3"
  },
  "language_info": {
   "codemirror_mode": {
    "name": "ipython",
    "version": 3
   },
   "file_extension": ".py",
   "mimetype": "text/x-python",
   "name": "python",
   "nbconvert_exporter": "python",
   "pygments_lexer": "ipython3",
   "version": "3.7.13"
  }
 },
 "nbformat": 4,
 "nbformat_minor": 5
}
