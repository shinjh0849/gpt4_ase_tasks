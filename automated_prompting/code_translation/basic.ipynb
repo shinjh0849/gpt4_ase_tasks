{
 "cells": [
  {
   "cell_type": "code",
   "execution_count": null,
   "id": "23f8aa5f",
   "metadata": {},
   "outputs": [],
   "source": [
    "import openai\n",
    "import os\n",
    "openai.api_key = ''"
   ]
  },
  {
   "cell_type": "code",
   "execution_count": null,
   "id": "e26dd4ef",
   "metadata": {},
   "outputs": [],
   "source": [
    "def get_completion(prompt, engine=\"text-davinci-003\"):\n",
    "    response = openai.Completion.create(\n",
    "        engine=engine,\n",
    "        prompt=prompt,\n",
    "        temperature=0, # this is the degree of randomness of the model's output\n",
    "    )\n",
    "    return response.choices[0].text"
   ]
  },
  {
   "cell_type": "code",
   "execution_count": null,
   "id": "7626a670",
   "metadata": {},
   "outputs": [],
   "source": [
    "def cs_to_java():\n",
    "    read_file_name = 'test.java-cs.txt.cs'\n",
    "    write_file_name = 'cs_java_results.txt'\n",
    "    with open(read_file_name) as read_file:\n",
    "        lines = [line.rstrip() for line in read_file]\n",
    "        with open(write_file_name, 'w') as write_file:\n",
    "            for line in lines:\n",
    "                prompt = f\"\"\"\n",
    "                Given that the code surrounded by ??? is written in C#, \\\n",
    "                output only the corresponding Java code condensed on one line ???{line}???\n",
    "                \"\"\"\n",
    "                response = get_completion(prompt)\n",
    "                write_file.write(response + '\\n')"
   ]
  },
  {
   "cell_type": "code",
   "execution_count": null,
   "id": "8caf52c7",
   "metadata": {},
   "outputs": [],
   "source": [
    "def java_to_cs():\n",
    "    read_file_name = 'test.java-cs.txt.java'\n",
    "    write_file_name = 'java_cs_results.txt'\n",
    "    with open(read_file_name) as read_file:\n",
    "        lines = [line.rstrip() for line in read_file]\n",
    "        with open(write_file_name, 'w') as write_file:\n",
    "            for line in lines:\n",
    "                prompt = f\"\"\"\n",
    "                Given that the code surrounded by ??? is written in Java#, \\\n",
    "                output only the corresponding C# code condensed on one line ???{line}???\n",
    "                \"\"\"\n",
    "                response = get_completion(prompt)\n",
    "                write_file.write(response + '\\n')"
   ]
  },
  {
   "cell_type": "code",
   "execution_count": null,
   "id": "83346b0b",
   "metadata": {},
   "outputs": [],
   "source": [
    "cs_to_java()"
   ]
  },
  {
   "cell_type": "code",
   "execution_count": null,
   "id": "64bebd8f",
   "metadata": {},
   "outputs": [],
   "source": [
    "java_to_cs()"
   ]
  }
 ],
 "metadata": {
  "kernelspec": {
   "display_name": "Python 3 (ipykernel)",
   "language": "python",
   "name": "python3"
  },
  "language_info": {
   "codemirror_mode": {
    "name": "ipython",
    "version": 3
   },
   "file_extension": ".py",
   "mimetype": "text/x-python",
   "name": "python",
   "nbconvert_exporter": "python",
   "pygments_lexer": "ipython3",
   "version": "3.7.13"
  }
 },
 "nbformat": 4,
 "nbformat_minor": 5
}
